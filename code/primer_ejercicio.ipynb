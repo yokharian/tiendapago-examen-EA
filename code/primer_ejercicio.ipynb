{
 "cells": [
  {
   "cell_type": "code",
   "execution_count": 1,
   "metadata": {
    "collapsed": true
   },
   "outputs": [
    {
     "name": "stdout",
     "output_type": "stream",
     "text": [
      "Requirement already satisfied: pandas in /home/drapaiton/.cache/pypoetry/virtualenvs/tiendapago-examen-ea-xYsG0OIB-py3.9/lib/python3.9/site-packages (1.3.1)\r\n",
      "Requirement already satisfied: pytz>=2017.3 in /home/drapaiton/.cache/pypoetry/virtualenvs/tiendapago-examen-ea-xYsG0OIB-py3.9/lib/python3.9/site-packages (from pandas) (2021.1)\r\n",
      "Requirement already satisfied: python-dateutil>=2.7.3 in /home/drapaiton/.cache/pypoetry/virtualenvs/tiendapago-examen-ea-xYsG0OIB-py3.9/lib/python3.9/site-packages (from pandas) (2.8.2)\r\n",
      "Requirement already satisfied: numpy>=1.17.3 in /home/drapaiton/.cache/pypoetry/virtualenvs/tiendapago-examen-ea-xYsG0OIB-py3.9/lib/python3.9/site-packages (from pandas) (1.21.1)\r\n",
      "Requirement already satisfied: six>=1.5 in /home/drapaiton/.cache/pypoetry/virtualenvs/tiendapago-examen-ea-xYsG0OIB-py3.9/lib/python3.9/site-packages (from python-dateutil>=2.7.3->pandas) (1.16.0)\r\n",
      "\u001B[33mWARNING: You are using pip version 21.1.2; however, version 21.2.1 is available.\r\n",
      "You should consider upgrading via the '/home/drapaiton/.cache/pypoetry/virtualenvs/tiendapago-examen-ea-xYsG0OIB-py3.9/bin/python -m pip install --upgrade pip' command.\u001B[0m\r\n",
      "Requirement already satisfied: openpyxl in /home/drapaiton/.cache/pypoetry/virtualenvs/tiendapago-examen-ea-xYsG0OIB-py3.9/lib/python3.9/site-packages (3.0.7)\r\n",
      "Requirement already satisfied: et-xmlfile in /home/drapaiton/.cache/pypoetry/virtualenvs/tiendapago-examen-ea-xYsG0OIB-py3.9/lib/python3.9/site-packages (from openpyxl) (1.1.0)\r\n",
      "\u001B[33mWARNING: You are using pip version 21.1.2; however, version 21.2.1 is available.\r\n",
      "You should consider upgrading via the '/home/drapaiton/.cache/pypoetry/virtualenvs/tiendapago-examen-ea-xYsG0OIB-py3.9/bin/python -m pip install --upgrade pip' command.\u001B[0m\r\n"
     ]
    }
   ],
   "source": [
    "!pip install pandas\n",
    "!pip install openpyxl"
   ]
  },
  {
   "cell_type": "code",
   "execution_count": 2,
   "outputs": [],
   "source": [
    "import pandas as pd\n",
    "from pandas import DataFrame as DaFe"
   ],
   "metadata": {
    "collapsed": false,
    "pycharm": {
     "name": "#%%\n"
    }
   }
  },
  {
   "cell_type": "code",
   "execution_count": 3,
   "outputs": [
    {
     "data": {
      "text/plain": "       Alumno  Examen 1  Examen 2  Examen 3  Promedio  Aprobado (Si/No)\n0     Alberto      10.0      10.0      10.0       NaN               NaN\n1        Aldo       7.0       1.0       7.0       NaN               NaN\n2   Alejandro       1.0       8.0       3.0       NaN               NaN\n3      Arturo       8.0       1.0       3.0       NaN               NaN\n4       Bryan       5.0      10.0       2.0       NaN               NaN\n5      Carlos       8.0       8.0       3.0       NaN               NaN\n6     Daniela      10.0       2.0       1.0       NaN               NaN\n7     Eduardo       2.0       1.0       6.0       NaN               NaN\n8       Erick       3.0       5.0       9.0       NaN               NaN\n9       Erika       4.0       8.0       3.0       NaN               NaN\n10    Gabriel       8.0      10.0       8.0       NaN               NaN\n11    Gerardo       9.0      10.0       3.0       NaN               NaN\n12       Gris       8.0       7.0       2.0       NaN               NaN\n13  Guillermo       5.0       4.0       7.0       NaN               NaN\n14     Isabel       4.0       6.0       8.0       NaN               NaN\n15     Jimena       8.0       4.0       1.0       NaN               NaN\n16      Jorge       1.0       2.0       8.0       NaN               NaN\n17      Karen       5.0       5.0       3.0       NaN               NaN\n18      Karla       3.0       4.0       9.0       NaN               NaN\n19    Lesslie       1.0       5.0       4.0       NaN               NaN\n20        Liz       5.0       6.0       6.0       NaN               NaN\n21     Lorena      10.0       2.0       9.0       NaN               NaN\n22      Lucas       2.0      10.0       2.0       NaN               NaN\n23  Margarita       8.0       3.0       8.0       NaN               NaN\n24    Mariana       2.0       7.0       3.0       NaN               NaN\n25     Mariel       9.0      10.0       2.0       NaN               NaN\n26      Marta       3.0       6.0       7.0       NaN               NaN\n27     Miguel       9.0      10.0       2.0       NaN               NaN\n28       Mile       9.0       6.0       5.0       NaN               NaN\n29      Pablo      10.0       5.0       6.0       NaN               NaN\n30    Paulina       8.0       2.0       3.0       NaN               NaN\n31     Rafael       9.0       5.0       6.0       NaN               NaN\n32     Raquel       7.0      10.0       5.0       NaN               NaN\n33     Renata       8.0       1.0       5.0       NaN               NaN\n34       Sara       9.0       8.0       6.0       NaN               NaN\n35  Sebastian      10.0       4.0       6.0       NaN               NaN\n36     Sergio       2.0       7.0       2.0       NaN               NaN\n37     Silvia       1.0      10.0       2.0       NaN               NaN\n38      Vania       9.0       1.0       5.0       NaN               NaN\n39       Yair       1.0       3.0      10.0       NaN               NaN",
      "text/html": "<div>\n<style scoped>\n    .dataframe tbody tr th:only-of-type {\n        vertical-align: middle;\n    }\n\n    .dataframe tbody tr th {\n        vertical-align: top;\n    }\n\n    .dataframe thead th {\n        text-align: right;\n    }\n</style>\n<table border=\"1\" class=\"dataframe\">\n  <thead>\n    <tr style=\"text-align: right;\">\n      <th></th>\n      <th>Alumno</th>\n      <th>Examen 1</th>\n      <th>Examen 2</th>\n      <th>Examen 3</th>\n      <th>Promedio</th>\n      <th>Aprobado (Si/No)</th>\n    </tr>\n  </thead>\n  <tbody>\n    <tr>\n      <th>0</th>\n      <td>Alberto</td>\n      <td>10.0</td>\n      <td>10.0</td>\n      <td>10.0</td>\n      <td>NaN</td>\n      <td>NaN</td>\n    </tr>\n    <tr>\n      <th>1</th>\n      <td>Aldo</td>\n      <td>7.0</td>\n      <td>1.0</td>\n      <td>7.0</td>\n      <td>NaN</td>\n      <td>NaN</td>\n    </tr>\n    <tr>\n      <th>2</th>\n      <td>Alejandro</td>\n      <td>1.0</td>\n      <td>8.0</td>\n      <td>3.0</td>\n      <td>NaN</td>\n      <td>NaN</td>\n    </tr>\n    <tr>\n      <th>3</th>\n      <td>Arturo</td>\n      <td>8.0</td>\n      <td>1.0</td>\n      <td>3.0</td>\n      <td>NaN</td>\n      <td>NaN</td>\n    </tr>\n    <tr>\n      <th>4</th>\n      <td>Bryan</td>\n      <td>5.0</td>\n      <td>10.0</td>\n      <td>2.0</td>\n      <td>NaN</td>\n      <td>NaN</td>\n    </tr>\n    <tr>\n      <th>5</th>\n      <td>Carlos</td>\n      <td>8.0</td>\n      <td>8.0</td>\n      <td>3.0</td>\n      <td>NaN</td>\n      <td>NaN</td>\n    </tr>\n    <tr>\n      <th>6</th>\n      <td>Daniela</td>\n      <td>10.0</td>\n      <td>2.0</td>\n      <td>1.0</td>\n      <td>NaN</td>\n      <td>NaN</td>\n    </tr>\n    <tr>\n      <th>7</th>\n      <td>Eduardo</td>\n      <td>2.0</td>\n      <td>1.0</td>\n      <td>6.0</td>\n      <td>NaN</td>\n      <td>NaN</td>\n    </tr>\n    <tr>\n      <th>8</th>\n      <td>Erick</td>\n      <td>3.0</td>\n      <td>5.0</td>\n      <td>9.0</td>\n      <td>NaN</td>\n      <td>NaN</td>\n    </tr>\n    <tr>\n      <th>9</th>\n      <td>Erika</td>\n      <td>4.0</td>\n      <td>8.0</td>\n      <td>3.0</td>\n      <td>NaN</td>\n      <td>NaN</td>\n    </tr>\n    <tr>\n      <th>10</th>\n      <td>Gabriel</td>\n      <td>8.0</td>\n      <td>10.0</td>\n      <td>8.0</td>\n      <td>NaN</td>\n      <td>NaN</td>\n    </tr>\n    <tr>\n      <th>11</th>\n      <td>Gerardo</td>\n      <td>9.0</td>\n      <td>10.0</td>\n      <td>3.0</td>\n      <td>NaN</td>\n      <td>NaN</td>\n    </tr>\n    <tr>\n      <th>12</th>\n      <td>Gris</td>\n      <td>8.0</td>\n      <td>7.0</td>\n      <td>2.0</td>\n      <td>NaN</td>\n      <td>NaN</td>\n    </tr>\n    <tr>\n      <th>13</th>\n      <td>Guillermo</td>\n      <td>5.0</td>\n      <td>4.0</td>\n      <td>7.0</td>\n      <td>NaN</td>\n      <td>NaN</td>\n    </tr>\n    <tr>\n      <th>14</th>\n      <td>Isabel</td>\n      <td>4.0</td>\n      <td>6.0</td>\n      <td>8.0</td>\n      <td>NaN</td>\n      <td>NaN</td>\n    </tr>\n    <tr>\n      <th>15</th>\n      <td>Jimena</td>\n      <td>8.0</td>\n      <td>4.0</td>\n      <td>1.0</td>\n      <td>NaN</td>\n      <td>NaN</td>\n    </tr>\n    <tr>\n      <th>16</th>\n      <td>Jorge</td>\n      <td>1.0</td>\n      <td>2.0</td>\n      <td>8.0</td>\n      <td>NaN</td>\n      <td>NaN</td>\n    </tr>\n    <tr>\n      <th>17</th>\n      <td>Karen</td>\n      <td>5.0</td>\n      <td>5.0</td>\n      <td>3.0</td>\n      <td>NaN</td>\n      <td>NaN</td>\n    </tr>\n    <tr>\n      <th>18</th>\n      <td>Karla</td>\n      <td>3.0</td>\n      <td>4.0</td>\n      <td>9.0</td>\n      <td>NaN</td>\n      <td>NaN</td>\n    </tr>\n    <tr>\n      <th>19</th>\n      <td>Lesslie</td>\n      <td>1.0</td>\n      <td>5.0</td>\n      <td>4.0</td>\n      <td>NaN</td>\n      <td>NaN</td>\n    </tr>\n    <tr>\n      <th>20</th>\n      <td>Liz</td>\n      <td>5.0</td>\n      <td>6.0</td>\n      <td>6.0</td>\n      <td>NaN</td>\n      <td>NaN</td>\n    </tr>\n    <tr>\n      <th>21</th>\n      <td>Lorena</td>\n      <td>10.0</td>\n      <td>2.0</td>\n      <td>9.0</td>\n      <td>NaN</td>\n      <td>NaN</td>\n    </tr>\n    <tr>\n      <th>22</th>\n      <td>Lucas</td>\n      <td>2.0</td>\n      <td>10.0</td>\n      <td>2.0</td>\n      <td>NaN</td>\n      <td>NaN</td>\n    </tr>\n    <tr>\n      <th>23</th>\n      <td>Margarita</td>\n      <td>8.0</td>\n      <td>3.0</td>\n      <td>8.0</td>\n      <td>NaN</td>\n      <td>NaN</td>\n    </tr>\n    <tr>\n      <th>24</th>\n      <td>Mariana</td>\n      <td>2.0</td>\n      <td>7.0</td>\n      <td>3.0</td>\n      <td>NaN</td>\n      <td>NaN</td>\n    </tr>\n    <tr>\n      <th>25</th>\n      <td>Mariel</td>\n      <td>9.0</td>\n      <td>10.0</td>\n      <td>2.0</td>\n      <td>NaN</td>\n      <td>NaN</td>\n    </tr>\n    <tr>\n      <th>26</th>\n      <td>Marta</td>\n      <td>3.0</td>\n      <td>6.0</td>\n      <td>7.0</td>\n      <td>NaN</td>\n      <td>NaN</td>\n    </tr>\n    <tr>\n      <th>27</th>\n      <td>Miguel</td>\n      <td>9.0</td>\n      <td>10.0</td>\n      <td>2.0</td>\n      <td>NaN</td>\n      <td>NaN</td>\n    </tr>\n    <tr>\n      <th>28</th>\n      <td>Mile</td>\n      <td>9.0</td>\n      <td>6.0</td>\n      <td>5.0</td>\n      <td>NaN</td>\n      <td>NaN</td>\n    </tr>\n    <tr>\n      <th>29</th>\n      <td>Pablo</td>\n      <td>10.0</td>\n      <td>5.0</td>\n      <td>6.0</td>\n      <td>NaN</td>\n      <td>NaN</td>\n    </tr>\n    <tr>\n      <th>30</th>\n      <td>Paulina</td>\n      <td>8.0</td>\n      <td>2.0</td>\n      <td>3.0</td>\n      <td>NaN</td>\n      <td>NaN</td>\n    </tr>\n    <tr>\n      <th>31</th>\n      <td>Rafael</td>\n      <td>9.0</td>\n      <td>5.0</td>\n      <td>6.0</td>\n      <td>NaN</td>\n      <td>NaN</td>\n    </tr>\n    <tr>\n      <th>32</th>\n      <td>Raquel</td>\n      <td>7.0</td>\n      <td>10.0</td>\n      <td>5.0</td>\n      <td>NaN</td>\n      <td>NaN</td>\n    </tr>\n    <tr>\n      <th>33</th>\n      <td>Renata</td>\n      <td>8.0</td>\n      <td>1.0</td>\n      <td>5.0</td>\n      <td>NaN</td>\n      <td>NaN</td>\n    </tr>\n    <tr>\n      <th>34</th>\n      <td>Sara</td>\n      <td>9.0</td>\n      <td>8.0</td>\n      <td>6.0</td>\n      <td>NaN</td>\n      <td>NaN</td>\n    </tr>\n    <tr>\n      <th>35</th>\n      <td>Sebastian</td>\n      <td>10.0</td>\n      <td>4.0</td>\n      <td>6.0</td>\n      <td>NaN</td>\n      <td>NaN</td>\n    </tr>\n    <tr>\n      <th>36</th>\n      <td>Sergio</td>\n      <td>2.0</td>\n      <td>7.0</td>\n      <td>2.0</td>\n      <td>NaN</td>\n      <td>NaN</td>\n    </tr>\n    <tr>\n      <th>37</th>\n      <td>Silvia</td>\n      <td>1.0</td>\n      <td>10.0</td>\n      <td>2.0</td>\n      <td>NaN</td>\n      <td>NaN</td>\n    </tr>\n    <tr>\n      <th>38</th>\n      <td>Vania</td>\n      <td>9.0</td>\n      <td>1.0</td>\n      <td>5.0</td>\n      <td>NaN</td>\n      <td>NaN</td>\n    </tr>\n    <tr>\n      <th>39</th>\n      <td>Yair</td>\n      <td>1.0</td>\n      <td>3.0</td>\n      <td>10.0</td>\n      <td>NaN</td>\n      <td>NaN</td>\n    </tr>\n  </tbody>\n</table>\n</div>"
     },
     "execution_count": 3,
     "metadata": {},
     "output_type": "execute_result"
    }
   ],
   "source": [
    "DATA_FILENAME = \"Test Intermedio Practico de Excel.xlsx\"\n",
    "EMPTY_ROWS_AT_BEGINING = range(8)\n",
    "FILE_COLUMNS = \"B:G\"\n",
    "\n",
    "EXAMEN_1_COLUMN,EXAMEN_2_COLUMN,EXAMEN_3_COLUMN = 'Examen 1','Examen 2','Examen 3'\n",
    "ALL_EXAMENES_COLUMNS = [EXAMEN_1_COLUMN,EXAMEN_2_COLUMN,EXAMEN_3_COLUMN]\n",
    "\n",
    "ALUMNO_COLUMN = 'Alumno'\n",
    "PROMEDIO_COLUMN = 'Promedio'\n",
    "APROBADO_COLUMN = 'Aprobado (Si/No)'\n",
    "CALIFICACION_APROVATORIA = 6.0\n",
    "\n",
    "df = pd.read_excel(DATA_FILENAME,usecols=FILE_COLUMNS,skiprows=EMPTY_ROWS_AT_BEGINING)\n",
    "df"
   ],
   "metadata": {
    "collapsed": false,
    "pycharm": {
     "name": "#%%\n"
    }
   }
  },
  {
   "cell_type": "code",
   "execution_count": 4,
   "outputs": [],
   "source": [
    "\"\"\"FILL THE TABLE, execute this before all\"\"\"\n",
    "# sum only examen punctuation\n",
    "promedios:DaFe = df.loc[:,ALL_EXAMENES_COLUMNS].sum(axis=1).div(len(ALL_EXAMENES_COLUMNS))\n",
    "promedios = promedios.round(1)\n",
    "# insert results\n",
    "df[PROMEDIO_COLUMN] = promedios\n",
    "\n",
    "def it_is_a_passing_grade(row,column_of_average:str=PROMEDIO_COLUMN,\n",
    "approval_grade:float = CALIFICACION_APROVATORIA,store_output_in_column:str=APROBADO_COLUMN):\n",
    "    result = 'Si' if row[column_of_average] >= approval_grade else 'No'\n",
    "    row[store_output_in_column] = result\n",
    "    return row\n",
    "\n",
    "df = df.apply(it_is_a_passing_grade, axis=1)"
   ],
   "metadata": {
    "collapsed": false,
    "pycharm": {
     "name": "#%%\n"
    }
   }
  },
  {
   "cell_type": "code",
   "execution_count": 5,
   "outputs": [
    {
     "name": "stdout",
     "output_type": "stream",
     "text": [
      "40\n"
     ]
    }
   ],
   "source": [
    "\"\"\"Numero de alumnos en la clase\"\"\"\n",
    "alumnos = len(df.index)\n",
    "\n",
    "print(alumnos) # 40 alumnos registrados"
   ],
   "metadata": {
    "collapsed": false,
    "pycharm": {
     "name": "#%%\n"
    }
   }
  },
  {
   "cell_type": "code",
   "execution_count": 6,
   "outputs": [
    {
     "name": "stdout",
     "output_type": "stream",
     "text": [
      "15\n"
     ]
    }
   ],
   "source": [
    "\"\"\"Aprobados\"\"\"\n",
    "\n",
    "alumnos_aprovados = len(df[df[APROBADO_COLUMN] == 'Si'])\n",
    "print(alumnos_aprovados) # 15 alumnos aprovados"
   ],
   "metadata": {
    "collapsed": false,
    "pycharm": {
     "name": "#%%\n"
    }
   }
  },
  {
   "cell_type": "code",
   "execution_count": 7,
   "outputs": [
    {
     "name": "stdout",
     "output_type": "stream",
     "text": [
      "25\n"
     ]
    }
   ],
   "source": [
    "\"\"\"Reprobados\"\"\"\n",
    "examenes_reprovados = alumnos-alumnos_aprovados\n",
    "print(examenes_reprovados) # 25 alumnos reprobados"
   ],
   "metadata": {
    "collapsed": false,
    "pycharm": {
     "name": "#%%\n"
    }
   }
  },
  {
   "cell_type": "code",
   "execution_count": 8,
   "outputs": [
    {
     "data": {
      "text/plain": "37.5"
     },
     "execution_count": 8,
     "metadata": {},
     "output_type": "execute_result"
    }
   ],
   "source": [
    "\"\"\"Porcentaje de aprobados\"\"\"\n",
    "alumnos_aprovados / alumnos * 100 # 37.5% de los alumnos han aprovado"
   ],
   "metadata": {
    "collapsed": false,
    "pycharm": {
     "name": "#%%\n"
    }
   }
  },
  {
   "cell_type": "code",
   "execution_count": 9,
   "outputs": [
    {
     "data": {
      "text/plain": "     Alumno  Promedio\n0   Alberto      10.0\n10  Gabriel       8.7\n34     Sara       7.7",
      "text/html": "<div>\n<style scoped>\n    .dataframe tbody tr th:only-of-type {\n        vertical-align: middle;\n    }\n\n    .dataframe tbody tr th {\n        vertical-align: top;\n    }\n\n    .dataframe thead th {\n        text-align: right;\n    }\n</style>\n<table border=\"1\" class=\"dataframe\">\n  <thead>\n    <tr style=\"text-align: right;\">\n      <th></th>\n      <th>Alumno</th>\n      <th>Promedio</th>\n    </tr>\n  </thead>\n  <tbody>\n    <tr>\n      <th>0</th>\n      <td>Alberto</td>\n      <td>10.0</td>\n    </tr>\n    <tr>\n      <th>10</th>\n      <td>Gabriel</td>\n      <td>8.7</td>\n    </tr>\n    <tr>\n      <th>34</th>\n      <td>Sara</td>\n      <td>7.7</td>\n    </tr>\n  </tbody>\n</table>\n</div>"
     },
     "execution_count": 9,
     "metadata": {},
     "output_type": "execute_result"
    }
   ],
   "source": [
    "\"\"\"top 3 mejores promedios y sus nombres\"\"\"\n",
    "# get top 3 average\n",
    "df.sort_values(by=PROMEDIO_COLUMN,ascending=False).head(3)[[ALUMNO_COLUMN,PROMEDIO_COLUMN]]"
   ],
   "metadata": {
    "collapsed": false,
    "pycharm": {
     "name": "#%%\n"
    }
   }
  },
  {
   "cell_type": "code",
   "execution_count": 11,
   "outputs": [
    {
     "data": {
      "text/plain": "Examen 1    6.0\nExamen 2    5.7\nExamen 3    5.0\nPromedio    5.6\nName: mean, dtype: float64"
     },
     "execution_count": 11,
     "metadata": {},
     "output_type": "execute_result"
    }
   ],
   "source": [
    "\"\"\"promedio total de clase, total y en cada uno de los examenes\"\"\"\n",
    "df.describe().loc['mean'].round(1)"
   ],
   "metadata": {
    "collapsed": false,
    "pycharm": {
     "name": "#%%\n"
    }
   }
  }
 ],
 "metadata": {
  "kernelspec": {
   "display_name": "Python 3",
   "language": "python",
   "name": "python3"
  },
  "language_info": {
   "codemirror_mode": {
    "name": "ipython",
    "version": 2
   },
   "file_extension": ".py",
   "mimetype": "text/x-python",
   "name": "python",
   "nbconvert_exporter": "python",
   "pygments_lexer": "ipython2",
   "version": "2.7.6"
  }
 },
 "nbformat": 4,
 "nbformat_minor": 0
}