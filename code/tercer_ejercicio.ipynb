{
 "cells": [
  {
   "cell_type": "code",
   "execution_count": 1,
   "metadata": {
    "collapsed": true,
    "pycharm": {
     "name": "#%%\n"
    }
   },
   "outputs": [
    {
     "name": "stdout",
     "output_type": "stream",
     "text": [
      "Requirement already satisfied: pandas in /home/drapaiton/.cache/pypoetry/virtualenvs/tiendapago-examen-ea-xYsG0OIB-py3.9/lib/python3.9/site-packages (1.3.1)\r\n",
      "Requirement already satisfied: numpy>=1.17.3 in /home/drapaiton/.cache/pypoetry/virtualenvs/tiendapago-examen-ea-xYsG0OIB-py3.9/lib/python3.9/site-packages (from pandas) (1.21.1)\r\n",
      "Requirement already satisfied: python-dateutil>=2.7.3 in /home/drapaiton/.cache/pypoetry/virtualenvs/tiendapago-examen-ea-xYsG0OIB-py3.9/lib/python3.9/site-packages (from pandas) (2.8.2)\r\n",
      "Requirement already satisfied: pytz>=2017.3 in /home/drapaiton/.cache/pypoetry/virtualenvs/tiendapago-examen-ea-xYsG0OIB-py3.9/lib/python3.9/site-packages (from pandas) (2021.1)\r\n",
      "Requirement already satisfied: six>=1.5 in /home/drapaiton/.cache/pypoetry/virtualenvs/tiendapago-examen-ea-xYsG0OIB-py3.9/lib/python3.9/site-packages (from python-dateutil>=2.7.3->pandas) (1.16.0)\r\n",
      "\u001B[33mWARNING: You are using pip version 21.1.2; however, version 21.2.1 is available.\r\n",
      "You should consider upgrading via the '/home/drapaiton/.cache/pypoetry/virtualenvs/tiendapago-examen-ea-xYsG0OIB-py3.9/bin/python -m pip install --upgrade pip' command.\u001B[0m\r\n"
     ]
    }
   ],
   "source": [
    "!pip install pandas"
   ]
  },
  {
   "cell_type": "code",
   "execution_count": 3,
   "outputs": [],
   "source": [
    "import pandas as pd\n",
    "from pandas import DataFrame as DaFe\n",
    "\n",
    "CUSTOMERS_FILE_PATH = \"Customers.csv\"\n",
    "TRANSACTIONS_FILE_PATH = 'Transactions.csv'\n",
    "DISTRIBUTOR_FILE_PATH = 'Distributor.csv'\n",
    "\n",
    "TRANSACTION_AMOUNT_COLUMN = 'TransactionAmount'\n",
    "DISTRIBUTOR_ID_COLUMN = 'DistributionCenterID'\n",
    "CUSTOMER_ID_COLUMN = 'CustomerID'\n",
    "DATE_COLUMN = 'Date'\n",
    "\n",
    "DATE_FORMAT = '%m/%d/%Y %H:%M'"
   ],
   "metadata": {
    "collapsed": false,
    "pycharm": {
     "name": "#%%\n"
    }
   }
  },
  {
   "cell_type": "code",
   "execution_count": 529,
   "outputs": [],
   "source": [
    "\"\"\"\n",
    "1. Crear procesos de integración de datos que extraigan de los archivos insumos y generen\n",
    "las transformaciones necesarias para un modelo de Business Intelligence y Data\n",
    "Warehouse.\n",
    "\n",
    "Empresa: Bytelian SA de CV\n",
    "\"\"\"\n",
    "\n",
    "def integrate_bi_input_files() -> DaFe:\n",
    "    \"\"\"generate a big DaFe to calculate easier, as this file grows strategy should be modified\n",
    "    with chunk iteration, date iteration, unique client isolation  etc...\"\"\"\n",
    "    try:\n",
    "        customers_df = pd.read_csv(CUSTOMERS_FILE_PATH)\n",
    "        transactions_df = pd.read_csv(TRANSACTIONS_FILE_PATH)\n",
    "        distributor_df = pd.read_csv(DISTRIBUTOR_FILE_PATH)\n",
    "\n",
    "        df = customers_df.join(transactions_df.set_index(CUSTOMER_ID_COLUMN), on=CUSTOMER_ID_COLUMN)\n",
    "        if df.empty:\n",
    "            FILES_TRIED_TO_JOIN = [CUSTOMERS_FILE_PATH,TRANSACTIONS_FILE_PATH]\n",
    "            raise ValueError(f\"these files couldn't be merged {FILES_TRIED_TO_JOIN}\")\n",
    "\n",
    "        df = df.join(distributor_df.set_index(DISTRIBUTOR_ID_COLUMN), on=DISTRIBUTOR_ID_COLUMN)\n",
    "        if df.empty:\n",
    "            FILES_TRIED_TO_JOIN = [[CUSTOMERS_FILE_PATH,TRANSACTIONS_FILE_PATH],DISTRIBUTOR_FILE_PATH]\n",
    "            raise ValueError(f\"these files couldn't be merged {FILES_TRIED_TO_JOIN}\")\n",
    "\n",
    "        # clean empty indexes (this should filter wrong data written at original file)\n",
    "        df[CUSTOMER_ID_COLUMN] = df[CUSTOMER_ID_COLUMN].dropna()\n",
    "        df[DISTRIBUTOR_ID_COLUMN] = df[DISTRIBUTOR_ID_COLUMN].dropna()\n",
    "\n",
    "        # date parse\n",
    "        df[DATE_COLUMN] = pd.to_datetime(df[DATE_COLUMN], format=DATE_FORMAT, errors='ignore')\n",
    "        if df.empty:\n",
    "            raise ValueError(f\"couldn't parse {DATE_COLUMN=}\")\n",
    "    except Exception as e:\n",
    "        raise e\n",
    "    else:\n",
    "        return df\n",
    "\n",
    "def dag_bytelian_transactions_pipeline():\n",
    "    \"\"\"generate a big DaFe to calculate easier, as this file grows strategy should be modified\n",
    "    with chunk iteration, date iteration, unique client isolation  etc...\"\"\"\n",
    "    return integrate_bi_input_files()\n",
    "\n",
    "dag_bytelian_transactions_pipeline()\\\n",
    "    .to_csv('pipeline_results.csv')"
   ],
   "metadata": {
    "collapsed": false,
    "pycharm": {
     "name": "#%%\n"
    }
   }
  },
  {
   "cell_type": "code",
   "execution_count": 476,
   "outputs": [
    {
     "data": {
      "text/plain": "   CustomerID  Monto Colocado\n0      430695       395480.00\n1      104503       363058.90\n2      186171       323326.44\n3      438341       292277.25\n4      427121       289441.58",
      "text/html": "<div>\n<style scoped>\n    .dataframe tbody tr th:only-of-type {\n        vertical-align: middle;\n    }\n\n    .dataframe tbody tr th {\n        vertical-align: top;\n    }\n\n    .dataframe thead th {\n        text-align: right;\n    }\n</style>\n<table border=\"1\" class=\"dataframe\">\n  <thead>\n    <tr style=\"text-align: right;\">\n      <th></th>\n      <th>CustomerID</th>\n      <th>Monto Colocado</th>\n    </tr>\n  </thead>\n  <tbody>\n    <tr>\n      <th>0</th>\n      <td>430695</td>\n      <td>395480.00</td>\n    </tr>\n    <tr>\n      <th>1</th>\n      <td>104503</td>\n      <td>363058.90</td>\n    </tr>\n    <tr>\n      <th>2</th>\n      <td>186171</td>\n      <td>323326.44</td>\n    </tr>\n    <tr>\n      <th>3</th>\n      <td>438341</td>\n      <td>292277.25</td>\n    </tr>\n    <tr>\n      <th>4</th>\n      <td>427121</td>\n      <td>289441.58</td>\n    </tr>\n  </tbody>\n</table>\n</div>"
     },
     "execution_count": 476,
     "metadata": {},
     "output_type": "execute_result"
    }
   ],
   "source": [
    "\"\"\"\n",
    "2. Previo a un análisis de los datos, crear un modelo de Business Intelligence\n",
    "a nivel analítico para el área comercial.\n",
    "\"\"\"\n",
    "\n",
    "full_df = dag_bytelian_transactions_pipeline()\n",
    "\n",
    "def customers_with_higher_transaction_amount_sum(my_df:DaFe) -> dict:\n",
    "    ACC_COLUMN_NAME = \"Monto Colocado\"\n",
    "    # get sum of groups\n",
    "    df = my_df[[CUSTOMER_ID_COLUMN, TRANSACTION_AMOUNT_COLUMN]]\\\n",
    "    .groupby(CUSTOMER_ID_COLUMN)\\\n",
    "    .agg([\"sum\"])\\\n",
    "    .reset_index()\\\n",
    "    .set_axis([CUSTOMER_ID_COLUMN, ACC_COLUMN_NAME], axis=\"columns\")\n",
    "    # return higher result\n",
    "    return df.sort_values(ACC_COLUMN_NAME,ascending=False).head(5).reset_index(drop=True)\n",
    "\n",
    "customers_with_higher_transaction_amount_sum(full_df)"
   ],
   "metadata": {
    "collapsed": false,
    "pycharm": {
     "name": "#%%\n"
    }
   }
  },
  {
   "cell_type": "code",
   "execution_count": 527,
   "outputs": [
    {
     "name": "stdout",
     "output_type": "stream",
     "text": [
      "       TransactionAmount\n",
      "count               29.0\n",
      "mean             59984.8\n",
      "std              28615.7\n",
      "min               9994.0\n",
      "25%              39800.0\n",
      "50%              55152.0\n",
      "75%              79899.7\n",
      "max             138935.9\n"
     ]
    },
    {
     "data": {
      "text/plain": "          Date  CustomerID  TransactionAmount\n0   2019-07-01      196391           79900.00\n1   2019-07-02      104503          138935.90\n2   2019-07-03      429356           27300.00\n3   2019-07-04      427121           49568.71\n4   2019-07-05      432698           37476.07\n5   2019-07-06      432698           41573.93\n6   2019-07-08      368806           49249.00\n7   2019-07-09      365337           39417.18\n8   2019-07-10      430695           79900.00\n9   2019-07-11      436373           31600.00\n10  2019-07-12      354127           39800.00\n11  2019-07-13      101424           57114.97\n12  2019-07-14      424223            9994.00\n13  2019-07-15      104503           50000.00\n14  2019-07-16      430695           79900.00\n15  2019-07-17      427121           70000.00\n16  2019-07-18      438341           74770.00\n17  2019-07-19      244425           41448.00\n18  2019-07-20      427467           48800.00\n19  2019-07-22      430695           79899.67\n20  2019-07-23      436373           31600.00\n21  2019-07-24      104503           74123.00\n22  2019-07-25      239514          114247.91\n23  2019-07-26      368806           68016.37\n24  2019-07-27      438341           79900.00\n25  2019-07-28      372793           18000.00\n26  2019-07-29      436176           55152.00\n27  2019-07-30      427121           71872.87\n28  2019-07-31      104503          100000.00",
      "text/html": "<div>\n<style scoped>\n    .dataframe tbody tr th:only-of-type {\n        vertical-align: middle;\n    }\n\n    .dataframe tbody tr th {\n        vertical-align: top;\n    }\n\n    .dataframe thead th {\n        text-align: right;\n    }\n</style>\n<table border=\"1\" class=\"dataframe\">\n  <thead>\n    <tr style=\"text-align: right;\">\n      <th></th>\n      <th>Date</th>\n      <th>CustomerID</th>\n      <th>TransactionAmount</th>\n    </tr>\n  </thead>\n  <tbody>\n    <tr>\n      <th>0</th>\n      <td>2019-07-01</td>\n      <td>196391</td>\n      <td>79900.00</td>\n    </tr>\n    <tr>\n      <th>1</th>\n      <td>2019-07-02</td>\n      <td>104503</td>\n      <td>138935.90</td>\n    </tr>\n    <tr>\n      <th>2</th>\n      <td>2019-07-03</td>\n      <td>429356</td>\n      <td>27300.00</td>\n    </tr>\n    <tr>\n      <th>3</th>\n      <td>2019-07-04</td>\n      <td>427121</td>\n      <td>49568.71</td>\n    </tr>\n    <tr>\n      <th>4</th>\n      <td>2019-07-05</td>\n      <td>432698</td>\n      <td>37476.07</td>\n    </tr>\n    <tr>\n      <th>5</th>\n      <td>2019-07-06</td>\n      <td>432698</td>\n      <td>41573.93</td>\n    </tr>\n    <tr>\n      <th>6</th>\n      <td>2019-07-08</td>\n      <td>368806</td>\n      <td>49249.00</td>\n    </tr>\n    <tr>\n      <th>7</th>\n      <td>2019-07-09</td>\n      <td>365337</td>\n      <td>39417.18</td>\n    </tr>\n    <tr>\n      <th>8</th>\n      <td>2019-07-10</td>\n      <td>430695</td>\n      <td>79900.00</td>\n    </tr>\n    <tr>\n      <th>9</th>\n      <td>2019-07-11</td>\n      <td>436373</td>\n      <td>31600.00</td>\n    </tr>\n    <tr>\n      <th>10</th>\n      <td>2019-07-12</td>\n      <td>354127</td>\n      <td>39800.00</td>\n    </tr>\n    <tr>\n      <th>11</th>\n      <td>2019-07-13</td>\n      <td>101424</td>\n      <td>57114.97</td>\n    </tr>\n    <tr>\n      <th>12</th>\n      <td>2019-07-14</td>\n      <td>424223</td>\n      <td>9994.00</td>\n    </tr>\n    <tr>\n      <th>13</th>\n      <td>2019-07-15</td>\n      <td>104503</td>\n      <td>50000.00</td>\n    </tr>\n    <tr>\n      <th>14</th>\n      <td>2019-07-16</td>\n      <td>430695</td>\n      <td>79900.00</td>\n    </tr>\n    <tr>\n      <th>15</th>\n      <td>2019-07-17</td>\n      <td>427121</td>\n      <td>70000.00</td>\n    </tr>\n    <tr>\n      <th>16</th>\n      <td>2019-07-18</td>\n      <td>438341</td>\n      <td>74770.00</td>\n    </tr>\n    <tr>\n      <th>17</th>\n      <td>2019-07-19</td>\n      <td>244425</td>\n      <td>41448.00</td>\n    </tr>\n    <tr>\n      <th>18</th>\n      <td>2019-07-20</td>\n      <td>427467</td>\n      <td>48800.00</td>\n    </tr>\n    <tr>\n      <th>19</th>\n      <td>2019-07-22</td>\n      <td>430695</td>\n      <td>79899.67</td>\n    </tr>\n    <tr>\n      <th>20</th>\n      <td>2019-07-23</td>\n      <td>436373</td>\n      <td>31600.00</td>\n    </tr>\n    <tr>\n      <th>21</th>\n      <td>2019-07-24</td>\n      <td>104503</td>\n      <td>74123.00</td>\n    </tr>\n    <tr>\n      <th>22</th>\n      <td>2019-07-25</td>\n      <td>239514</td>\n      <td>114247.91</td>\n    </tr>\n    <tr>\n      <th>23</th>\n      <td>2019-07-26</td>\n      <td>368806</td>\n      <td>68016.37</td>\n    </tr>\n    <tr>\n      <th>24</th>\n      <td>2019-07-27</td>\n      <td>438341</td>\n      <td>79900.00</td>\n    </tr>\n    <tr>\n      <th>25</th>\n      <td>2019-07-28</td>\n      <td>372793</td>\n      <td>18000.00</td>\n    </tr>\n    <tr>\n      <th>26</th>\n      <td>2019-07-29</td>\n      <td>436176</td>\n      <td>55152.00</td>\n    </tr>\n    <tr>\n      <th>27</th>\n      <td>2019-07-30</td>\n      <td>427121</td>\n      <td>71872.87</td>\n    </tr>\n    <tr>\n      <th>28</th>\n      <td>2019-07-31</td>\n      <td>104503</td>\n      <td>100000.00</td>\n    </tr>\n  </tbody>\n</table>\n</div>"
     },
     "execution_count": 527,
     "metadata": {},
     "output_type": "execute_result"
    }
   ],
   "source": [
    "\"\"\"\n",
    "2. Previo a un análisis de los datos, crear un modelo de Business Intelligence\n",
    "a nivel analítico para el área comercial.\n",
    "\"\"\"\n",
    "\n",
    "full_df = dag_bytelian_transactions_pipeline()\n",
    "# i would rather prefer to iterate thru months,\n",
    "# but as dataset size is micro, daily is more explanatory\n",
    "def customer_with_higher_transaction_amount_sum_per_day(my_df: DaFe) -> DaFe:\n",
    "    df = my_df.copy()\n",
    "    df[DATE_COLUMN] = df[DATE_COLUMN].dt.date\n",
    "    df_sums = (\n",
    "        df[[DATE_COLUMN,CUSTOMER_ID_COLUMN,TRANSACTION_AMOUNT_COLUMN]]\n",
    "        .groupby([DATE_COLUMN,CUSTOMER_ID_COLUMN],as_index=False)\n",
    "        .sum()\n",
    "    )\n",
    "    df_max = df_sums.groupby(DATE_COLUMN)\\\n",
    "        .idxmax()\\\n",
    "        .reset_index()\\\n",
    "        .set_index(TRANSACTION_AMOUNT_COLUMN)\\\n",
    "        .drop(CUSTOMER_ID_COLUMN, axis=1)\n",
    "    return df_sums.loc[df_max.index].reset_index(drop=True)\n",
    "\n",
    "result = customer_with_higher_transaction_amount_sum_per_day(full_df)\n",
    "print(result.describe()[[TRANSACTION_AMOUNT_COLUMN]].apply(round, args=[1]))\n",
    "result"
   ],
   "metadata": {
    "collapsed": false,
    "pycharm": {
     "name": "#%%\n"
    }
   }
  },
  {
   "cell_type": "code",
   "execution_count": 528,
   "outputs": [],
   "source": [
    "\"\"\"\n",
    "3. Calcular 2 métricas (monto colocado y número transacciones) donde:\n",
    "a. Monto Colocado es la suma de la transacción (transaction amount).\n",
    "b. Número de transacciones es el conteo de las transacciones totales.\n",
    "\"\"\"\n",
    "\n",
    "def calculate_sum_count_metrics(\n",
    "    df: DaFe,\n",
    "    output_sum_column,\n",
    "    output_count_column,\n",
    "    parent_column=CUSTOMER_ID_COLUMN,\n",
    "    children_column=TRANSACTION_AMOUNT_COLUMN,\n",
    "):\n",
    "    return (\n",
    "        df[[parent_column, children_column]]\n",
    "        .groupby(parent_column)\n",
    "        .agg([\"sum\", \"count\"])\n",
    "        .reset_index()\n",
    "        .set_axis(\n",
    "            [parent_column, output_sum_column, output_count_column], axis=\"columns\"\n",
    "        )\n",
    "    )\n",
    "\n",
    "full_df = dag_bytelian_transactions_pipeline()\n",
    "calculate_sum_count_metrics(full_df, \"Monto Colocado\", \"Número de transacciones\")\\\n",
    "    .to_excel('two_metrics.xlsx')"
   ],
   "metadata": {
    "collapsed": false,
    "pycharm": {
     "name": "#%%\n"
    }
   }
  },
  {
   "cell_type": "code",
   "execution_count": null,
   "outputs": [],
   "source": [
    "\"\"\"\n",
    "4. Proponer y justificar 3 métricas, que creas son importantes para la toma de decisiones del\n",
    "gerente Hugo Montoya.\n",
    "\n",
    "\n",
    "\"\"\""
   ],
   "metadata": {
    "collapsed": false,
    "pycharm": {
     "name": "#%%\n"
    }
   }
  },
  {
   "cell_type": "code",
   "execution_count": null,
   "outputs": [],
   "source": [
    "\"\"\"\n",
    "5. Generar un tablero de control que muestre los principales indicadores de una forma\n",
    "amigable para que el gerente pueda tomar decisiones de una manera eficaz y sencilla en\n",
    "diferentes puntos del tiempo.\n",
    "\n",
    "NOTA: Nuestra empresa necesita de un tablero de control que muestre los\n",
    "principales indicadores (5) para la correcta toma de decisiones del\n",
    "gerente comercial Hugo Montoya.\n",
    "\"\"\"\n",
    "\n",
    "\n"
   ],
   "metadata": {
    "collapsed": false,
    "pycharm": {
     "name": "#%%\n"
    }
   }
  }
 ],
 "metadata": {
  "kernelspec": {
   "display_name": "Python 3",
   "language": "python",
   "name": "python3"
  },
  "language_info": {
   "codemirror_mode": {
    "name": "ipython",
    "version": 2
   },
   "file_extension": ".py",
   "mimetype": "text/x-python",
   "name": "python",
   "nbconvert_exporter": "python",
   "pygments_lexer": "ipython2",
   "version": "2.7.6"
  }
 },
 "nbformat": 4,
 "nbformat_minor": 0
}